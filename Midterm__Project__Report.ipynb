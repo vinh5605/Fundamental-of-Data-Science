{
  "nbformat": 4,
  "nbformat_minor": 0,
  "metadata": {
    "colab": {
      "provenance": [],
      "include_colab_link": true
    },
    "kernelspec": {
      "name": "python3",
      "display_name": "Python 3"
    },
    "language_info": {
      "name": "python"
    }
  },
  "cells": [
    {
      "cell_type": "markdown",
      "metadata": {
        "id": "view-in-github",
        "colab_type": "text"
      },
      "source": [
        "<a href=\"https://colab.research.google.com/github/vinh5605/Fundamental-of-Data-Science/blob/main/Midterm__Project__Report.ipynb\" target=\"_parent\"><img src=\"https://colab.research.google.com/assets/colab-badge.svg\" alt=\"Open In Colab\"/></a>"
      ]
    },
    {
      "cell_type": "markdown",
      "source": [
        "# **📊 Midterm Report – Data Science Job Salaries**\n"
      ],
      "metadata": {
        "id": "yMLZcXPyS_-S"
      }
    },
    {
      "cell_type": "markdown",
      "source": [
        "## **1. Group Members**\n",
        "### Lê Quốc Anh-23BI14022\n",
        "### Vũ Ngọc Vinh-23BI14456"
      ],
      "metadata": {
        "id": "8p8Kr2YtTYFx"
      }
    },
    {
      "cell_type": "markdown",
      "source": [
        "##**2. Dataset Source:**\n",
        "###https://www.kaggle.com/datasets/ruchi798/data-science-job-salaries"
      ],
      "metadata": {
        "id": "sjjeJZ8qMtpS"
      }
    },
    {
      "cell_type": "markdown",
      "source": [
        "##**3. Business Analysts**\n",
        "###**3.1 Formulate problem**\n",
        "####**Context**\n",
        "####Data Science is growing very fast around the world and is becoming one of the most important fields today. However, salaries and job opportunities are not the same everywhere. They can change depending on the country, type of job, level of experience, and company size. Knowing what factors affect salaries can help both job seekers and companies understand the labor market better.\n",
        "####**Problem Statement**\n",
        "####The main question of this project is: \"How do Data Science salaries change based on factors such as experience, job type, country, work arrangement, and company size?\"\n",
        "####**Objectives**\n",
        "#####To analyze and describe the distribution of Data Science salaries.\n",
        "#####To compare salaries across important features such as experience, job type, location, and company size.\n",
        "#####To use data visualization to show trends and patterns in the Data Science labor market.\n",
        "\n"
      ],
      "metadata": {
        "id": "giT25bOLXJqM"
      }
    },
    {
      "cell_type": "markdown",
      "source": [
        "###**3.2 Market Understanding**\n",
        "####Based on the data from the dataset, which covers roles in data science and technology from 2020 to 2022, the job market shows a wide range of locations, pay levels, work types, and other factors. This reflects global trends in business growth and digital change.\n",
        "####The market is led by the United States, where the most job openings and highest pay rates are found compared to other areas. European countries like the United Kingdom, Germany, and France also play a key role, with competitive but lower pay than in the US. Growing markets in Asia, such as India and Japan, show steady progress, but pay is often lower due to local living costs."
      ],
      "metadata": {
        "id": "UIWvZqUYkBE8"
      }
    },
    {
      "cell_type": "markdown",
      "source": [
        "####Trends over the years indicate a steady rise in job numbers and average pay, especially from 2020 to 2022. This may stem from higher demand for tech skills after the global health crisis. Remote work is a common setup, with most roles allowing full remote or mixed options. This helps companies attract skilled workers from around the world without location limits."
      ],
      "metadata": {
        "id": "qpBfN1ge8hU9"
      }
    },
    {
      "cell_type": "markdown",
      "source": [
        "####Common job roles include Data Scientist, Data Engineer, and Data Analyst, which focus on data review and handling. Pay tends to be higher for roles with more experience (senior or executive levels) and in large or medium-sized companies, where resources for tech investment are stronger."
      ],
      "metadata": {
        "id": "KV2uLYvzHkMl"
      }
    },
    {
      "cell_type": "markdown",
      "source": [
        "###**3.3 Clusterring**\n",
        "####The data was divided into two main clusters based on 607 records:\n",
        "####Cluster 0 (Low-Cost, Less Experienced Market):\n",
        "* Number: Approximately 49% (298 records).\n",
        "* Characteristics: Low salaries (below 50,000 USD), mostly at Entry-level (EN) or Mid-level (MI), with low remote work ratios (<50%), concentrated in emerging markets like India (IN), Pakistan (PK), and Romania (RO).\n",
        "* Example: Product Data Analyst in India (6,072 USD, 2020, remote_ratio 100%).\n",
        "####Cluster 1 (High-End, Flexible Market):\n",
        "*  Number: Approximately 51% 309 records).\n",
        "* Characteristics: High salaries (above 100,000 USD), mostly at Senior (SE) or Executive (EX) levels, with high remote work ratios (100%), concentrated in the US, UK (GB), and Germany (DE).\n",
        "* Example: Financial Data Analyst in the US (450,000 USD, 2021, remote_ratio 100%)."
      ],
      "metadata": {
        "id": "y011_Ydi6Q8J"
      }
    },
    {
      "cell_type": "markdown",
      "source": [
        "####**Evaluation**\n",
        "####The clustering achieved an accuracy of approximately 85%, based on the inertia index (within-cluster variation), indicating a clear distinction between the two groups. Cluster 0 represents low-cost positions, suitable for companies aiming to optimize budgets, while Cluster 1 focuses on high-skilled talent with advanced requirements.\n"
      ],
      "metadata": {
        "id": "YHSgkv8eApw8"
      }
    },
    {
      "cell_type": "markdown",
      "source": [
        "####**Business Insight**\n",
        "####Businesses can target Cluster 1 to recruit highly experienced professionals, especially in the US, to achieve high performance. Conversely, Cluster 0 offers opportunities to expand into low-cost emerging markets, such as India, to support small-scale projects or outsourcing."
      ],
      "metadata": {
        "id": "9ykZvHfLAmXc"
      }
    },
    {
      "cell_type": "markdown",
      "source": [
        "###**3.4 Pattern Mining**"
      ],
      "metadata": {
        "id": "8LjFB5AjkgEC"
      }
    },
    {
      "cell_type": "markdown",
      "source": [
        "####**Main Patterns**\n",
        "*   Pattern 1: Salary has a strong link with experience level (0.48) – Jobs at Senior (SE) or Executive (EX) levels often have much higher pay than Entry-level (EN), for example, EX averages around 188,000 USD while EN averages about 65,000 USD.\n",
        "*  Pattern 2: Salary rises a little with work year (0.17) – From 2020 to 2022, average pay went from about 95,000 USD to 123,000 USD, showing market growth.\n",
        "*  Pattern 3: Remote work ratio has a weak positive link with salary (0.13) – Jobs with high remote work (100%) tend to have slightly higher pay, with about 64% of records being fully remote and higher average pay in this group.\n",
        "*  Notable Pattern: Salary connects with company size (0.15) – Large (L) and medium (M) companies pay more than small ones (S), with 70% of US jobs paying over 100,000 USD.\n",
        "####**Business Insight**\n",
        "####The patterns show that experience is the most important factor affecting pay, suggesting businesses should invest in training employees to increase value and keep talent. Also, the trend toward remote work and yearly growth points to the need for flexible work models to stay competitive, while focusing on big markets like the US can use high pay for better results.\n"
      ],
      "metadata": {
        "id": "cr6YhvbSlsbT"
      }
    },
    {
      "cell_type": "markdown",
      "source": [
        "####**3.5 Modeling**"
      ],
      "metadata": {
        "id": "VoZhnOb5V68J"
      }
    },
    {
      "cell_type": "markdown",
      "source": [
        "####For the modeling part, we applied the XGBoost Regressor to predict salaries (in USD). The dataset was split into training and testing sets with an 80/20 ratio. Categorical variables such as job title, company location, and experience level were transformed using One-Hot Encoding, while numerical variables were kept as they are.\n",
        "####After tuning with GridSearchCV, the XGBoost model achieved:\n",
        "\n",
        "*   MAE ≈ 27,441 USD\n",
        "*   RMSE ≈ 41,249 USD\n",
        "*   R² ≈ 0.56\n",
        "\n",
        "####This means the model can explain about 56% of the salary variation in the dataset. Although not perfect, the result is acceptable given that many real-world factors affecting salary are not included. Overall, XGBoost provides a solid prediction performance and can be further improved with additional feature engineering or more data."
      ],
      "metadata": {
        "id": "HMb1cqG2vg5N"
      }
    },
    {
      "cell_type": "markdown",
      "source": [
        "###**4.Exploratory Data Analysis**\n",
        "####**4.1 Descriptive statistics**\n",
        "#### The dataset contains 607 records from the years 2020 to 2022. The salary in USD has an average of around 112298 USD, with a median of 101570 USD The lowest salary is 2859 USD and the highest is 600000 USD. Most salaries fall between 62726 and 150000 USD. This shows that there is a wide range of salaries in the dataset, and some very high outliers\n",
        "####There is a large difference in salaries, with some very high outliers.\n",
        "####**4.2 Salary by experience level**\n",
        "#### When looking at salary by experience level, we can see a clear trend. Entry-level employees (EN) have the lowest salaries, while mid-level (MI) employees earn more. Senior-level (SE) workers receive higher and more stable salaries, and executives (EX) have the highest salaries, even though there are fewer records for them. In short, more experience usually leads to higher pay.\n",
        "\n",
        "\n",
        "\n",
        "\n",
        "\n",
        "\n",
        "\n"
      ],
      "metadata": {
        "id": "a_eES3ubWGMs"
      }
    },
    {
      "cell_type": "markdown",
      "source": [
        "####**4.3 Salary by job title**\n",
        "####In terms of job titles, the three most common roles are Data Scientist (143 records), Data Engineer (132 records), and Data Analyst (97 records). Other roles such as Machine Learning Engineer, Research Scientist, and Data Science Manager appear less often but usually have higher average salaries. This indicates that there is a strong demand for Data Scientist, Data Engineer, and Data Analyst roles in the dataset.\n"
      ],
      "metadata": {
        "id": "U9xnjF-fkEAq"
      }
    },
    {
      "cell_type": "markdown",
      "source": [
        "####**4.4 Salary by company size**\n",
        "####Company size also shows a difference in salary. Small companies (S) pay an average of around 77,600 USD, while medium (M) and large (L) companies pay much higher, with averages around 116,900 USD and 119,200 USD respectively. This suggests that larger companies usually offer higher salaries."
      ],
      "metadata": {
        "id": "VeT9IEoLmTts"
      }
    },
    {
      "cell_type": "markdown",
      "source": [
        "####**4.5 Remote work ratio**\n",
        "####Remote work is very common in this dataset. About 63% of employees work fully remote, 21% work onsite, and 16% work in a hybrid mode. This reflects the trend of remote work in data-related jobs."
      ],
      "metadata": {
        "id": "Z-1ibi0Onar1"
      }
    },
    {
      "cell_type": "markdown",
      "source": [
        "####**4.6 Salary trend by year**\n",
        "####Looking at salary trends by year, the average salary increased from about 95,813 USD in 2020 to 99,854 USD in 2021, and then rose sharply to 124,522 USD in 2022. This shows that salaries in the data field grew strongly over the three years."
      ],
      "metadata": {
        "id": "f89gV1rRofl9"
      }
    },
    {
      "cell_type": "markdown",
      "source": [
        "####Finally, the correlation analysis shows that the year has a positive relationship with salary, meaning salaries increase over time. However, the remote work ratio does not have a clear impact on salary.\n",
        "####In conclusion, the exploratory data analysis shows four main points. First, salaries in data jobs increased significantly between 2020 and 2022. Second, both experience and company size strongly affect salary levels. Third, the most common job titles are Data Scientist, Data Engineer, and Data Analyst. Finally, remote work is the main working style in this dataset, with the majority of employees working fully remote."
      ],
      "metadata": {
        "id": "PpovUz6CjVPP"
      }
    }
  ]
}